{
 "cells": [
  {
   "cell_type": "raw",
   "id": "9cbea6d7-f41c-43d6-879d-e95d2dad75ae",
   "metadata": {},
   "source": [
    "Lists in Python"
   ]
  },
  {
   "cell_type": "code",
   "execution_count": 3,
   "id": "4ee970f1-b167-4646-ac5d-844d897c662a",
   "metadata": {},
   "outputs": [
    {
     "name": "stdout",
     "output_type": "stream",
     "text": [
      "numbers\n"
     ]
    },
    {
     "data": {
      "text/plain": [
       "[11, 99, 66, 22]"
      ]
     },
     "execution_count": 3,
     "metadata": {},
     "output_type": "execute_result"
    }
   ],
   "source": [
    ">>>\n",
    ">>> print(\"numbers\")\n",
    "[11, 99, 66, 22]\n",
    ">>>"
   ]
  },
  {
   "cell_type": "code",
   "execution_count": 4,
   "id": "e44a7baf-dcb5-439a-bbb9-2c3280fe4edb",
   "metadata": {},
   "outputs": [
    {
     "data": {
      "text/plain": [
       "['a string', 3.14, 199]"
      ]
     },
     "execution_count": 4,
     "metadata": {},
     "output_type": "execute_result"
    }
   ],
   "source": [
    ">>>\n",
    ">>> mixed = [\"a string\", 3.14, 199]  # list where elements are of different types\n",
    ">>>\n",
    ">>> mixed\n",
    "['a string', 3.14, 199]\n",
    ">>>"
   ]
  },
  {
   "cell_type": "code",
   "execution_count": 6,
   "id": "75e96f5e-2e8d-430e-91c2-5564a333a8e6",
   "metadata": {},
   "outputs": [
    {
     "data": {
      "text/plain": [
       "['1', '2', '3', '4']"
      ]
     },
     "execution_count": 6,
     "metadata": {},
     "output_type": "execute_result"
    }
   ],
   "source": [
    ">>>\n",
    ">>> list1 = list()  # an empty list\n",
    ">>> list2 = list([3.2, 4, 0.12])  # again elements in a list can be of different types\n",
    ">>> list3 = list([\"@@\", \"###\", \">>>\"])   # you can use symbols too\n",
    ">>> list4 = list(\"1234\")  # creating list from string\n",
    ">>>\n",
    ">>>\n",
    ">>> list1\n",
    "[]\n",
    ">>>\n",
    ">>> list2\n",
    "[3.2, 4, 0.12]\n",
    ">>>\n",
    ">>> list3\n",
    "['@@', '###', '>>>']\n",
    ">>>\n",
    ">>> list4\n",
    "['1', '2', '3', '4']\n",
    ">>>\n",
    ">>>"
   ]
  },
  {
   "cell_type": "code",
   "execution_count": 7,
   "id": "e96e75c6-2855-464d-9bc5-e3bc746d7076",
   "metadata": {},
   "outputs": [
    {
     "data": {
      "text/plain": [
       "[[33, 55, 77], [99, 31, 64]]"
      ]
     },
     "execution_count": 7,
     "metadata": {},
     "output_type": "execute_result"
    }
   ],
   "source": [
    ">>>\n",
    ">>> list5 = [\n",
    "...    [33, 55, 77],  # first element\n",
    "...    [99, 31, 64]   # second element\n",
    "... ]\n",
    ">>>\n",
    ">>>\n",
    ">>> list5\n",
    "[[33, 55, 77], [99, 31, 64]]\n",
    ">>>\n",
    ">>>"
   ]
  },
  {
   "cell_type": "raw",
   "id": "92566426-6ec5-4f05-af8b-baaabd4fd23e",
   "metadata": {},
   "source": [
    "Creating lists using range() function "
   ]
  },
  {
   "cell_type": "code",
   "execution_count": 8,
   "id": "87e9438b-464d-4646-91a0-eb969712e377",
   "metadata": {},
   "outputs": [
    {
     "data": {
      "text/plain": [
       "[0, 10, 20, 30, 40, 50, 60, 70, 80, 90]"
      ]
     },
     "execution_count": 8,
     "metadata": {},
     "output_type": "execute_result"
    }
   ],
   "source": [
    ">>>\n",
    ">>> list3 = list(range(0, 100, 10))  ## create a list of numbers from 0 to 100 with step value of 10\n",
    ">>> list3\n",
    "[0, 10, 20, 30, 40, 50, 60, 70, 80, 90]\n",
    ">>>\n",
    ">>>"
   ]
  },
  {
   "cell_type": "code",
   "execution_count": 9,
   "id": "906fef5a-5a97-4ecc-b2f5-6c01da45b709",
   "metadata": {},
   "outputs": [
    {
     "data": {
      "text/plain": [
       "[1,\n",
       " 2,\n",
       " 3,\n",
       " 4,\n",
       " 5,\n",
       " 6,\n",
       " 7,\n",
       " 8,\n",
       " 9,\n",
       " 10,\n",
       " 11,\n",
       " 12,\n",
       " 13,\n",
       " 14,\n",
       " 15,\n",
       " 16,\n",
       " 17,\n",
       " 18,\n",
       " 19,\n",
       " 20,\n",
       " 21,\n",
       " 22,\n",
       " 23,\n",
       " 24,\n",
       " 25,\n",
       " 26,\n",
       " 27,\n",
       " 28,\n",
       " 29,\n",
       " 30,\n",
       " 31,\n",
       " 32,\n",
       " 33,\n",
       " 34,\n",
       " 35,\n",
       " 36,\n",
       " 37,\n",
       " 38,\n",
       " 39,\n",
       " 40,\n",
       " 41,\n",
       " 42,\n",
       " 43,\n",
       " 44,\n",
       " 45,\n",
       " 46,\n",
       " 47,\n",
       " 48,\n",
       " 49,\n",
       " 50,\n",
       " 51,\n",
       " 52,\n",
       " 53,\n",
       " 54,\n",
       " 55,\n",
       " 56,\n",
       " 57,\n",
       " 58,\n",
       " 59,\n",
       " 60,\n",
       " 61,\n",
       " 62,\n",
       " 63,\n",
       " 64,\n",
       " 65,\n",
       " 66,\n",
       " 67,\n",
       " 68,\n",
       " 69,\n",
       " 70,\n",
       " 71,\n",
       " 72,\n",
       " 73,\n",
       " 74,\n",
       " 75,\n",
       " 76,\n",
       " 77,\n",
       " 78,\n",
       " 79,\n",
       " 80,\n",
       " 81,\n",
       " 82,\n",
       " 83,\n",
       " 84,\n",
       " 85,\n",
       " 86,\n",
       " 87,\n",
       " 88,\n",
       " 89,\n",
       " 90,\n",
       " 91,\n",
       " 92,\n",
       " 93,\n",
       " 94,\n",
       " 95,\n",
       " 96,\n",
       " 97,\n",
       " 98,\n",
       " 99,\n",
       " 100]"
      ]
     },
     "execution_count": 9,
     "metadata": {},
     "output_type": "execute_result"
    }
   ],
   "source": [
    ">>>\n",
    ">>> list2 = list(range(1, 101))  ## create a list of numbers from 1 to 100\n",
    ">>> list2\n",
    "[1, 2, 3, 4, 5, 6, 7, 8, 9, 10, 11, 12, 13, 14, 15, 16, 17, 18, 19, 20, 21, 22,\n",
    "23, 24, 25, 26, 27, 28, 29, 30, 31, 32, 33, 34, 35, 36, 37, 38, 39, 40, 41, 42,\n",
    "43, 44, 45, 46, 47, 48, 49, 50, 51, 52, 53, 54, 55, 56, 57, 58, 59, 60, 61, 62,\n",
    "63, 64, 65, 66, 67, 68, 69, 70, 71, 72, 73, 74, 75, 76, 77, 78, 79, 80, 81, 82,\n",
    "83, 84, 85, 86, 87, 88, 89, 90, 91, 92, 93, 94, 95, 96, 97, 98, 99, 100]\n",
    ">>>\n",
    ">>>"
   ]
  },
  {
   "cell_type": "raw",
   "id": "0edbd9b1-68db-40dd-b054-9feff8125f83",
   "metadata": {},
   "source": [
    "List functions"
   ]
  },
  {
   "cell_type": "code",
   "execution_count": 10,
   "id": "7664caea-03fd-4937-8537-1d84699147c5",
   "metadata": {},
   "outputs": [
    {
     "data": {
      "text/plain": [
       "9999"
      ]
     },
     "execution_count": 10,
     "metadata": {},
     "output_type": "execute_result"
    }
   ],
   "source": [
    ">>>\n",
    ">>> list1 = [88, 99, 4.12, 199, 993, 9999]\n",
    ">>>\n",
    ">>> list1[0]  # get the first element\n",
    "88\n",
    ">>> list1[1]  # get the second element\n",
    "99\n",
    ">>> list1[5]  # get the sixth element\n",
    "9999\n",
    ">>>"
   ]
  },
  {
   "cell_type": "code",
   "execution_count": 11,
   "id": "7095e71f-a438-4063-9483-83448c68e423",
   "metadata": {},
   "outputs": [
    {
     "data": {
      "text/plain": [
       "1"
      ]
     },
     "execution_count": 11,
     "metadata": {},
     "output_type": "execute_result"
    }
   ],
   "source": [
    ">>>\n",
    ">>>\n",
    ">>> list1 = [1, 9, 4, 12, 82]\n",
    ">>>\n",
    ">>> len(list1)  # find the length of the list\n",
    "5\n",
    ">>>\n",
    ">>> sum(list1)  # find the sum of the list\n",
    "108\n",
    ">>>\n",
    ">>> max(list1)  # find the greatest element in the list\n",
    "82\n",
    ">>>\n",
    ">>> min(list1)  # find the smallest element in the list\n",
    "1\n",
    ">>>\n",
    ">>>"
   ]
  },
  {
   "cell_type": "code",
   "execution_count": 12,
   "id": "94f40a9c-346d-4a2d-a543-b2f408b56b40",
   "metadata": {},
   "outputs": [
    {
     "data": {
      "text/plain": [
       "9999"
      ]
     },
     "execution_count": 12,
     "metadata": {},
     "output_type": "execute_result"
    }
   ],
   "source": [
    ">>>\n",
    ">>> len(list1) - 1\n",
    "5\n",
    ">>>\n",
    ">>> list1[len(list1) - 1]  # get the last element \n",
    "9999\n",
    ">>>"
   ]
  },
  {
   "cell_type": "code",
   "execution_count": 14,
   "id": "22e71c4d-2583-4ef0-8c33-f9004347a72b",
   "metadata": {},
   "outputs": [
    {
     "data": {
      "text/plain": [
       "993"
      ]
     },
     "execution_count": 14,
     "metadata": {},
     "output_type": "execute_result"
    }
   ],
   "source": [
    ">>>\n",
    ">>> list1\n",
    "[88, 99, 4.12, 199, 993, 9999]\n",
    ">>>\n",
    ">>> list1[-1]   # get the last element\n",
    "9999\n",
    ">>> list1[-2]   # get the second last element\n",
    "993\n",
    ">>>"
   ]
  },
  {
   "cell_type": "code",
   "execution_count": 15,
   "id": "08c2ff03-45e6-4626-b3cc-e294e802ec38",
   "metadata": {},
   "outputs": [
    {
     "data": {
      "text/plain": [
       "88"
      ]
     },
     "execution_count": 15,
     "metadata": {},
     "output_type": "execute_result"
    }
   ],
   "source": [
    ">>>\n",
    ">>> list1[-len(list1)]  # get the first element\n",
    "88\n",
    ">>>"
   ]
  },
  {
   "cell_type": "raw",
   "id": "f742fc2f-a2f0-4cba-aedc-7b888e0b33d5",
   "metadata": {},
   "source": [
    "Lists are Mutable"
   ]
  },
  {
   "cell_type": "code",
   "execution_count": 16,
   "id": "518f56b8-40b5-4b77-9843-075375b17d06",
   "metadata": {},
   "outputs": [
    {
     "name": "stdout",
     "output_type": "stream",
     "text": [
      "122\n",
      "45\n",
      "23\n",
      "78\n",
      "65\n",
      "12\n"
     ]
    },
    {
     "data": {
      "text/plain": [
       "12"
      ]
     },
     "execution_count": 16,
     "metadata": {},
     "output_type": "execute_result"
    }
   ],
   "source": [
    ">>>\n",
    ">>> marks = [122, 45, 23, 78, 65, 12]\n",
    ">>> for m in marks:\n",
    "...   print(m)\n",
    "...\n",
    "122\n",
    "45\n",
    "23\n",
    "78\n",
    "65\n",
    "12\n",
    ">>>"
   ]
  },
  {
   "cell_type": "code",
   "execution_count": 17,
   "id": "2a816f89-2b52-4023-82ed-cc2e03a5a955",
   "metadata": {},
   "outputs": [
    {
     "data": {
      "text/plain": [
       "43223176"
      ]
     },
     "execution_count": 17,
     "metadata": {},
     "output_type": "execute_result"
    }
   ],
   "source": [
    ">>>\n",
    ">>> list1 = [\"str\", \"list\", \"int\", \"float\"]\n",
    ">>>\n",
    ">>> id(list1)   # address where list1 is stored\n",
    "43223176\n",
    ">>>\n",
    ">>> list1[0] = \"string\"  # Update element at index 0\n",
    ">>>\n",
    ">>> list1   # list1 is changed now\n",
    "['string', 'list', 'int', 'float']\n",
    ">>>\n",
    ">>> id(list1)  # notice that the id is still same\n",
    "43223176\n",
    ">>>\n",
    ">>>"
   ]
  },
  {
   "cell_type": "raw",
   "id": "25ce5501-7472-4cb7-9ca1-33f000a09522",
   "metadata": {},
   "source": [
    "Iterating through elements in a List "
   ]
  },
  {
   "cell_type": "code",
   "execution_count": 19,
   "id": "4d251a94-faa7-4065-84d6-67caf32a4e14",
   "metadata": {},
   "outputs": [
    {
     "name": "stdout",
     "output_type": "stream",
     "text": [
      "122\n",
      "45\n",
      "23\n",
      "78\n",
      "65\n",
      "12\n"
     ]
    },
    {
     "data": {
      "text/plain": [
       "12"
      ]
     },
     "execution_count": 19,
     "metadata": {},
     "output_type": "execute_result"
    }
   ],
   "source": [
    ">>>\n",
    ">>> marks = [122, 45, 23, 78, 65, 12]\n",
    ">>> for m in marks:\n",
    "...   print(m)\n",
    "...\n",
    "122\n",
    "45\n",
    "23\n",
    "78\n",
    "65\n",
    "12\n",
    ">>>"
   ]
  },
  {
   "cell_type": "code",
   "execution_count": 20,
   "id": "c71e6a4a-20f0-436c-a35e-dc7eec6920aa",
   "metadata": {},
   "outputs": [
    {
     "data": {
      "text/plain": [
       "[59, 9, 59, 21, 75, 61]"
      ]
     },
     "execution_count": 20,
     "metadata": {},
     "output_type": "execute_result"
    }
   ],
   "source": [
    ">>>\n",
    ">>> marks = [122, 45, 23, 78, 65, 12]\n",
    ">>>\n",
    ">>> import random\n",
    ">>>\n",
    ">>> for i in range(len(marks)):\n",
    "...   marks[i] = random.randint(1, 100)  # assign some random value between 1 to 100 to all elements\n",
    "...\n",
    ">>>\n",
    ">>> marks\n",
    "[59, 9, 59, 21, 75, 61]\n",
    ">>>\n",
    ">>>"
   ]
  },
  {
   "cell_type": "code",
   "execution_count": 21,
   "id": "33b6e5a6-f5f9-4cff-8555-69d56b2e028e",
   "metadata": {},
   "outputs": [
    {
     "data": {
      "text/plain": [
       "[59, 9, 59, 21, 75, 61]"
      ]
     },
     "execution_count": 21,
     "metadata": {},
     "output_type": "execute_result"
    }
   ],
   "source": [
    ">>>\n",
    ">>> marks = [122, 45, 23, 78, 65, 12]\n",
    ">>>\n",
    ">>> import random\n",
    ">>>\n",
    ">>> for i in range(len(marks)):\n",
    "...   marks[i] = random.randint(1, 100)  # assign some random value between 1 to 100 to all elements\n",
    "...\n",
    ">>>\n",
    ">>> marks\n",
    "[59, 9, 59, 21, 75, 61]\n",
    ">>>\n",
    ">>>"
   ]
  },
  {
   "cell_type": "raw",
   "id": "9685dbb2-3a4f-47a0-b17f-da00fdb022c9",
   "metadata": {},
   "source": [
    "List Slicing"
   ]
  },
  {
   "cell_type": "code",
   "execution_count": 22,
   "id": "30d56455-d096-47cb-baa6-e504a43be373",
   "metadata": {},
   "outputs": [
    {
     "data": {
      "text/plain": [
       "[44]"
      ]
     },
     "execution_count": 22,
     "metadata": {},
     "output_type": "execute_result"
    }
   ],
   "source": [
    ">>>\n",
    ">>> list1 = [11, 33, 55, 22, 44, 89]\n",
    ">>>\n",
    ">>> list1[0:4]\n",
    "[11, 33, 55, 22]\n",
    ">>>\n",
    ">>>\n",
    ">>> list1[1:5]\n",
    "[33, 55, 22, 44]\n",
    ">>>\n",
    ">>>\n",
    ">>> list1[4:5]\n",
    "[44]\n",
    ">>>"
   ]
  },
  {
   "cell_type": "code",
   "execution_count": 23,
   "id": "8441f958-9a70-49c8-a0f6-d834610c7528",
   "metadata": {},
   "outputs": [
    {
     "data": {
      "text/plain": [
       "[11, 33, 55, 22, 44, 89]"
      ]
     },
     "execution_count": 23,
     "metadata": {},
     "output_type": "execute_result"
    }
   ],
   "source": [
    ">>>\n",
    ">>> list1\n",
    "[11, 33, 55, 22, 44, 89]\n",
    ">>>\n",
    ">>> list1[:2]       # same as list1[0:2]\n",
    "[11, 33]\n",
    ">>>\n",
    ">>> list1[2:]       # same as list1[2:len(list1)]\n",
    "[55, 22, 44, 89]\n",
    ">>>\n",
    ">>> list1[:]        # same as list1[0:len(list1)]\n",
    "[11, 33, 55, 22, 44, 89]\n",
    ">>>\n",
    ">>>"
   ]
  },
  {
   "cell_type": "raw",
   "id": "26191b7d-af45-4839-8daf-905a1e7985fb",
   "metadata": {},
   "source": [
    "Membership operator in and not in"
   ]
  },
  {
   "cell_type": "code",
   "execution_count": 24,
   "id": "c0bc13e9-0b17-408a-bcd9-4d77a49d2758",
   "metadata": {},
   "outputs": [
    {
     "data": {
      "text/plain": [
       "False"
      ]
     },
     "execution_count": 24,
     "metadata": {},
     "output_type": "execute_result"
    }
   ],
   "source": [
    ">>>\n",
    ">>> cards  = [\"club\", \"diamond\", \"heart\", \"spades\"]\n",
    ">>>\n",
    ">>> \"club\" in cards\n",
    "True\n",
    ">>>\n",
    ">>> \"joker\" in cards\n",
    "False\n",
    ">>>\n",
    ">>> \"pikes\" not in cards\n",
    "True\n",
    ">>>\n",
    ">>> \"heart\" not in cards\n",
    "False\n",
    ">>>\n",
    ">>>"
   ]
  },
  {
   "cell_type": "raw",
   "id": "c6ff3f15-d695-4343-965e-c5f62396721a",
   "metadata": {},
   "source": [
    "List Concatenation"
   ]
  },
  {
   "cell_type": "code",
   "execution_count": 25,
   "id": "d5ef7e81-b4d1-41e8-9a5f-2dee544b8328",
   "metadata": {},
   "outputs": [
    {
     "data": {
      "text/plain": [
       "6"
      ]
     },
     "execution_count": 25,
     "metadata": {},
     "output_type": "execute_result"
    }
   ],
   "source": [
    ">>>\n",
    ">>> list1 = [1,2,3]  # create list1\n",
    ">>> list2 = [11,22,33]  # create list2\n",
    ">>>\n",
    ">>> id(list1)   # address of list1\n",
    "43223112 \n",
    ">>> id(list2)   # address of list2\n",
    "43223048\n",
    ">>>\n",
    ">>>\n",
    "1\n",
    "2\n",
    "3\n",
    "4\n",
    "5\n",
    "6\n",
    ">>>"
   ]
  },
  {
   "cell_type": "code",
   "execution_count": 26,
   "id": "1dde91d8-15c8-45e1-ab73-3b58c81f5b5d",
   "metadata": {},
   "outputs": [
    {
     "data": {
      "text/plain": [
       "[1, 2, 3, 11, 22, 33]"
      ]
     },
     "execution_count": 26,
     "metadata": {},
     "output_type": "execute_result"
    }
   ],
   "source": [
    ">>>\n",
    ">>> list3 = list1 + list2   # concatenate list1 and list2 and create list3\n",
    ">>> list3\n",
    "[1, 2, 3, 11, 22, 33]\n",
    ">>>\n",
    ">>>"
   ]
  },
  {
   "cell_type": "code",
   "execution_count": 27,
   "id": "342f6da1-2a42-4fe9-a533-beabe433fcb1",
   "metadata": {},
   "outputs": [
    {
     "data": {
      "text/plain": [
       "43223048"
      ]
     },
     "execution_count": 27,
     "metadata": {},
     "output_type": "execute_result"
    }
   ],
   "source": [
    ">>>\n",
    ">>> id(list3)  # address of the new list list3\n",
    "43222920\n",
    ">>>\n",
    ">>>\n",
    ">>> id(list1)   # address of list1 is still same\n",
    "43223112\n",
    ">>> id(list2)   # address of list2 is still same\n",
    "43223048\n",
    ">>>\n",
    ">>>"
   ]
  },
  {
   "cell_type": "code",
   "execution_count": 28,
   "id": "ff71a2ca-6fca-4d41-ab77-112b91a81a3d",
   "metadata": {},
   "outputs": [
    {
     "data": {
      "text/plain": [
       "43223112"
      ]
     },
     "execution_count": 28,
     "metadata": {},
     "output_type": "execute_result"
    }
   ],
   "source": [
    ">>>\n",
    ">>> list1\n",
    "[1, 2, 3]\n",
    ">>>\n",
    ">>> id(list1)\n",
    "43223112\n",
    ">>>\n",
    ">>> list1 += list2   # append list2 to list1\n",
    ">>>\n",
    ">>> list1\n",
    "[1, 2, 3, 11, 22, 33]\n",
    ">>>\n",
    ">>>\n",
    ">>> id(list1)  # address is still same\n",
    "43223112\n",
    ">>>"
   ]
  },
  {
   "cell_type": "raw",
   "id": "7c568330-8b86-405e-82cc-c8665cf3cccd",
   "metadata": {},
   "source": [
    "Repetition Operator"
   ]
  },
  {
   "cell_type": "code",
   "execution_count": 29,
   "id": "06844c35-3e0d-4a61-8b7c-70f60b0fbbbd",
   "metadata": {},
   "outputs": [
    {
     "data": {
      "text/plain": [
       "[1, 5, 1, 5, 1, 5, 1, 5]"
      ]
     },
     "execution_count": 29,
     "metadata": {},
     "output_type": "execute_result"
    }
   ],
   "source": [
    ">>>\n",
    ">>> list1 = [1, 5]\n",
    ">>>\n",
    ">>>\n",
    ">>> list2 = list1 * 4  # replicate list1 4 times and assign the result to list2\n",
    ">>>\n",
    ">>> list2\n",
    "[1, 5, 1, 5, 1, 5, 1, 5]\n",
    ">>>\n",
    ">>>"
   ]
  },
  {
   "cell_type": "code",
   "execution_count": 36,
   "id": "2648b9f6-653f-4c71-bdf1-7a6788cb1b61",
   "metadata": {},
   "outputs": [
    {
     "data": {
      "text/plain": [
       "32182472"
      ]
     },
     "execution_count": 36,
     "metadata": {},
     "output_type": "execute_result"
    }
   ],
   "source": [
    ">>>\n",
    ">>> action = [\"eat\", \"sleep\", \"repeat\"]\n",
    ">>>\n",
    ">>> id(action)  # address of action list\n",
    "32182472\n",
    ">>>\n",
    ">>> action *= 5\n",
    ">>>\n",
    ">>> action\n",
    "['eat', 'sleep', 'repeat', 'eat', 'sleep', 'repeat', 'eat', 'sleep', 'repeat',]\n",
    "['eat', 'sleep', 'repeat', 'eat', 'sleep', 'repeat']\n",
    ">>>\n",
    ">>> id(action)   # address is still the same\n",
    "32182472\n",
    ">>>"
   ]
  },
  {
   "cell_type": "raw",
   "id": "f4d859f5-3888-4986-a97f-b1e2e4a7ae99",
   "metadata": {},
   "source": [
    "Comparing Lists"
   ]
  },
  {
   "cell_type": "code",
   "execution_count": 37,
   "id": "3a7310c1-9ec6-4f91-a415-722f5d69ff42",
   "metadata": {},
   "outputs": [
    {
     "data": {
      "text/plain": [
       "False"
      ]
     },
     "execution_count": 37,
     "metadata": {},
     "output_type": "execute_result"
    }
   ],
   "source": [
    ">>>\n",
    ">>> n1 = [1,2,3]\n",
    ">>> n2 = [1,2,10]\n",
    ">>>\n",
    ">>>\n",
    ">>> n1 > n2\n",
    "False\n",
    ">>>"
   ]
  },
  {
   "cell_type": "code",
   "execution_count": 38,
   "id": "c8f704f3-a8a1-457e-9794-02fee9ee40be",
   "metadata": {},
   "outputs": [
    {
     "data": {
      "text/plain": [
       "True"
      ]
     },
     "execution_count": 38,
     "metadata": {},
     "output_type": "execute_result"
    }
   ],
   "source": [
    ">>>\n",
    ">>> word_list1 = [\"pow\", \"exp\"]\n",
    ">>> word_list2 = [\"power\", \"exponent\"]\n",
    ">>>\n",
    ">>> word_list1 < word_list2\n",
    "True\n",
    ">>>"
   ]
  },
  {
   "cell_type": "raw",
   "id": "07b2c4c7-04ab-417c-a020-30220ebeecc2",
   "metadata": {},
   "source": [
    "List Comprehension"
   ]
  },
  {
   "cell_type": "code",
   "execution_count": 39,
   "id": "87d96dfc-d712-417a-98a9-f24d5fd96f1e",
   "metadata": {},
   "outputs": [
    {
     "data": {
      "text/plain": [
       "[125000,\n",
       " 132651,\n",
       " 140608,\n",
       " 148877,\n",
       " 157464,\n",
       " 166375,\n",
       " 175616,\n",
       " 185193,\n",
       " 195112,\n",
       " 205379,\n",
       " 216000,\n",
       " 226981,\n",
       " 238328,\n",
       " 250047,\n",
       " 262144,\n",
       " 274625,\n",
       " 287496,\n",
       " 300763,\n",
       " 314432,\n",
       " 328509,\n",
       " 343000,\n",
       " 357911,\n",
       " 373248,\n",
       " 389017,\n",
       " 405224,\n",
       " 421875,\n",
       " 438976,\n",
       " 456533,\n",
       " 474552,\n",
       " 493039,\n",
       " 512000,\n",
       " 531441,\n",
       " 551368,\n",
       " 571787,\n",
       " 592704,\n",
       " 614125,\n",
       " 636056,\n",
       " 658503,\n",
       " 681472,\n",
       " 704969,\n",
       " 729000,\n",
       " 753571,\n",
       " 778688,\n",
       " 804357,\n",
       " 830584,\n",
       " 857375,\n",
       " 884736,\n",
       " 912673,\n",
       " 941192,\n",
       " 970299,\n",
       " 1000000]"
      ]
     },
     "execution_count": 39,
     "metadata": {},
     "output_type": "execute_result"
    }
   ],
   "source": [
    ">>>\n",
    ">>> cube_list = [ i**3 for i in range(50, 101) ]\n",
    ">>>\n",
    ">>> cube_list\n",
    "[125000, 132651, 140608, 148877, 157464, 166375, 175616, 185193, 195112, 205379,\n",
    " 216000, 226981, 238328, 250047, 262144, 274625, 287496, 300763, 314432, 328509,\n",
    " 343000, 357911, 373248, 389017, 405224, 421875, 438976, 456533, 474552, 493039,\n",
    " 512000, 531441, 551368, 571787, 592704, 614125, 636056, 658503, 681472, 704969,\n",
    " 729000, 753571, 778688, 804357, 830584, 857375, 884736, 912673, 941192, 970299,\n",
    " 1000000]\n",
    ">>>"
   ]
  },
  {
   "cell_type": "code",
   "execution_count": 40,
   "id": "1554ea3e-17ff-44ec-96ec-80ebf9c406e0",
   "metadata": {},
   "outputs": [
    {
     "data": {
      "text/plain": [
       "[2, 4, 6, 8]"
      ]
     },
     "execution_count": 40,
     "metadata": {},
     "output_type": "execute_result"
    }
   ],
   "source": [
    ">>>\n",
    ">>> even_list = [ i for i in range(1, 10) if i % 2 == 0 ]\n",
    ">>>\n",
    ">>> even_list\n",
    "[2, 4, 6, 8]\n",
    ">>>"
   ]
  },
  {
   "cell_type": "raw",
   "id": "072f526f-576b-4468-924e-45c2d85244a2",
   "metadata": {},
   "source": [
    "List Methods "
   ]
  },
  {
   "cell_type": "raw",
   "id": "e994a919-88fe-4489-b8ea-0c332add3719",
   "metadata": {},
   "source": [
    "append() method"
   ]
  },
  {
   "cell_type": "code",
   "execution_count": 41,
   "id": "1b9a90e5-5a09-4d5f-a800-0cf9951e4850",
   "metadata": {},
   "outputs": [
    {
     "data": {
      "text/plain": [
       "45741512"
      ]
     },
     "execution_count": 41,
     "metadata": {},
     "output_type": "execute_result"
    }
   ],
   "source": [
    ">>>\n",
    ">>> list1 = [1,2,3,4,5,6]\n",
    ">>>\n",
    ">>> id(list1)\n",
    "45741512        # address of list1\n",
    ">>>\n",
    ">>> list1.append(10)   # append 10 to list1\n",
    ">>>\n",
    ">>> list1               \n",
    "[1, 2, 3, 4, 5, 6, 10]  \n",
    ">>>\n",
    ">>> id(list1)   # address remains unchanged\n",
    "45741512\n",
    ">>>"
   ]
  },
  {
   "cell_type": "raw",
   "id": "ef65e011-db00-486d-b8d7-22769fdead06",
   "metadata": {},
   "source": [
    "insert() method"
   ]
  },
  {
   "cell_type": "code",
   "execution_count": 42,
   "id": "c185846d-3137-4b86-9ab4-e80665c78120",
   "metadata": {},
   "outputs": [
    {
     "data": {
      "text/plain": [
       "8000"
      ]
     },
     "execution_count": 42,
     "metadata": {},
     "output_type": "execute_result"
    }
   ],
   "source": [
    ">>>\n",
    ">>> list1 = [1,2,3,4,5,6]\n",
    ">>>\n",
    ">>> id(list1)\n",
    "45739272\n",
    ">>>\n",
    ">>> list1.insert(2, 1000)  # insert item 1000 at index 2\n",
    ">>>\n",
    ">>> list1\n",
    "[1, 2, 1000, 3, 4, 5, 6]   # now the last valid index is 6\n",
    ">>>\n",
    ">>>\n",
    ">>> list1.insert(6, 4000)  # insert the item 4000 at index 6\n",
    ">>>\n",
    ">>> list1\n",
    "[1, 2, 1000, 3, 4, 5, 4000, 6]  # now the last valid index is 7\n",
    ">>>\n",
    ">>>\n",
    ">>> list1.insert(8, 8000)  # insert the item 8000 at index 8, which is beyond the last valid index\n",
    ">>>\n",
    ">>> list1\n",
    "[1, 2, 1000, 3, 4, 5, 4000, 6, 8000] \n",
    ">>> list1[8]\n",
    "8000\n",
    ">>>"
   ]
  },
  {
   "cell_type": "raw",
   "id": "79ba17f1-b2fd-4f94-aff5-81379453f450",
   "metadata": {},
   "source": [
    "index() method"
   ]
  },
  {
   "cell_type": "raw",
   "id": "4ecf3d77-b1bb-45d8-b0c9-df3c485215ff",
   "metadata": {},
   "source": [
    "remove() method"
   ]
  },
  {
   "cell_type": "code",
   "execution_count": 57,
   "id": "de97b04d-19c8-4651-99ea-2a8d893d41bd",
   "metadata": {},
   "outputs": [
    {
     "data": {
      "text/plain": [
       "[2, 3, 4, 5, 6, 1, 2, 3]"
      ]
     },
     "execution_count": 57,
     "metadata": {},
     "output_type": "execute_result"
    }
   ],
   "source": [
    ">>>\n",
    ">>> list1 = [1, 2, 3, 4, 5, 6, 1, 2, 3]\n",
    ">>>\n",
    ">>> list1.remove(1)   # remove first occurence of element 1 \n",
    ">>>\n",
    ">>> list1"
   ]
  },
  {
   "cell_type": "code",
   "execution_count": 58,
   "id": "8e66321a-ce54-4cfa-b0d0-66ea8e527733",
   "metadata": {},
   "outputs": [
    {
     "data": {
      "text/plain": [
       "[3, 4, 5, 6, 1, 2, 3]"
      ]
     },
     "execution_count": 58,
     "metadata": {},
     "output_type": "execute_result"
    }
   ],
   "source": [
    ">>>\n",
    ">>> list1.remove(2)   # remove first occurence of element 2\n",
    ">>>\n",
    ">>> list1"
   ]
  },
  {
   "cell_type": "raw",
   "id": "31aa8a14-cd31-4c09-9008-f1b06026d288",
   "metadata": {},
   "source": [
    "count() method "
   ]
  },
  {
   "cell_type": "code",
   "execution_count": 60,
   "id": "c757bf4d-476c-497e-9a2f-24d51e1624ad",
   "metadata": {},
   "outputs": [
    {
     "data": {
      "text/plain": [
       "2"
      ]
     },
     "execution_count": 60,
     "metadata": {},
     "output_type": "execute_result"
    }
   ],
   "source": [
    ">>>\n",
    ">>> list1 = [1, 2, 3, 4, 5, 6, 1, 2, 3]\n",
    ">>>\n",
    ">>> list1.count(2)   # count the appearance of element 2 in the list\n",
    "2\n",
    ">>> list1.count(100)  # count the appearance of element 100 in the list\n",
    "0\n",
    ">>> list1.count(1)  # count the appearance of element 1 in the list\n",
    "2\n",
    ">>>"
   ]
  },
  {
   "cell_type": "raw",
   "id": "d883c51a-fec2-4fce-862a-289fd72888b0",
   "metadata": {},
   "source": [
    "clear() method"
   ]
  },
  {
   "cell_type": "code",
   "execution_count": 61,
   "id": "251a2829-397d-4e6b-8e75-4a239c971399",
   "metadata": {},
   "outputs": [
    {
     "data": {
      "text/plain": [
       "45738248"
      ]
     },
     "execution_count": 61,
     "metadata": {},
     "output_type": "execute_result"
    }
   ],
   "source": [
    ">>>\n",
    ">>>\n",
    ">>> list1 = [1, 2, 3, 4, 5, 6, 1, 2, 3]\n",
    ">>>\n",
    ">>> id(list1)\n",
    "45738248\n",
    ">>>\n",
    ">>> list1.clear()   # clear all the elements in the list list1\n",
    ">>>\n",
    ">>> list1\n",
    "[]\n",
    ">>>\n",
    ">>> id(list1)\n",
    "45738248\n",
    ">>>\n",
    ">>>"
   ]
  },
  {
   "cell_type": "code",
   "execution_count": null,
   "id": "93f7a669-5bd7-4d0b-ae51-aa28f2ddc4ff",
   "metadata": {},
   "outputs": [],
   "source": [
    "sort() method"
   ]
  },
  {
   "cell_type": "code",
   "execution_count": 62,
   "id": "fab51aef-eb44-4a58-8dec-d0b3d7da72d6",
   "metadata": {},
   "outputs": [
    {
     "data": {
      "text/plain": [
       "['float', 'int', 'list', 'str']"
      ]
     },
     "execution_count": 62,
     "metadata": {},
     "output_type": "execute_result"
    }
   ],
   "source": [
    ">>>\n",
    ">>> list1 = [12, -2, 3, 4, 100, 50]\n",
    ">>>\n",
    ">>> list1.sort()   # sort the list in ascending order\n",
    ">>>\n",
    ">>> list1\n",
    "[-2, 3, 4, 12, 50, 100]\n",
    ">>>\n",
    ">>> types = [\"str\", \"float\", \"int\", \"list\"]  \n",
    ">>>\n",
    ">>> types.sort()  # sort the list, strings are sorted based on the ASCII values\n",
    ">>>\n",
    ">>> types\n",
    "['float', 'int', 'list', 'str']  \n",
    ">>>\n",
    ">>>\n",
    "\n"
   ]
  },
  {
   "cell_type": "code",
   "execution_count": null,
   "id": "c66729c0-fb4b-478e-b7ec-dbc6f19aa4a0",
   "metadata": {},
   "outputs": [],
   "source": [
    "reverse() method"
   ]
  },
  {
   "cell_type": "code",
   "execution_count": 63,
   "id": "e34772c1-ba46-421d-a483-f54ec0c0b1b1",
   "metadata": {},
   "outputs": [
    {
     "data": {
      "text/plain": [
       "[100, 50, 12, 4, 3, -2]"
      ]
     },
     "execution_count": 63,
     "metadata": {},
     "output_type": "execute_result"
    }
   ],
   "source": [
    ">>>\n",
    ">>> list1 = [12, -2, 3, 4, 100, 50]\n",
    ">>>\n",
    ">>>\n",
    ">>> list1.sort()  # sort the list in ascending order\n",
    ">>>\n",
    ">>> list1\n",
    "[-2, 3, 4, 12, 50, 100]\n",
    ">>>\n",
    ">>> list1.reverse()  # sort the list in descending order\n",
    ">>>\n",
    ">>> list1\n",
    "[100, 50, 12, 4, 3, -2]\n",
    ">>>\n",
    ">>>"
   ]
  },
  {
   "cell_type": "code",
   "execution_count": null,
   "id": "5412b8ba-105c-41ae-82bb-bd4facccc56e",
   "metadata": {},
   "outputs": [],
   "source": [
    "extend() method"
   ]
  },
  {
   "cell_type": "code",
   "execution_count": 64,
   "id": "76c84d27-82a7-4dfa-80f9-14f1b1e3b0a6",
   "metadata": {},
   "outputs": [
    {
     "data": {
      "text/plain": [
       "45738248"
      ]
     },
     "execution_count": 64,
     "metadata": {},
     "output_type": "execute_result"
    }
   ],
   "source": [
    ">>>\n",
    ">>> list1 = [1, 2, 3]\n",
    ">>>\n",
    ">>> id(list1)\n",
    "45738248\n",
    ">>>\n",
    ">>> list1.extend([100, 200, 300])   # append elements of list [100, 200, 300] to list1\n",
    ">>>\n",
    ">>> list1\n",
    "[1, 2, 3, 100, 200, 300]\n",
    ">>>\n",
    ">>> id(list1) \n",
    "45738248\n",
    ">>>\n",
    ">>>\n",
    ">>> list1.extend(\"str\")  # We can pass strings too\n",
    ">>>\n",
    ">>> list1\n",
    "[1, 2, 3, 100, 200, 300, 's', 't', 'r']\n",
    ">>>\n",
    ">>>\n",
    ">>> id(list1)\n",
    "45738248\n",
    ">>>\n",
    ">>>"
   ]
  },
  {
   "cell_type": "code",
   "execution_count": null,
   "id": "d35d2198-2dde-421c-af51-04fe7a8e5a55",
   "metadata": {},
   "outputs": [],
   "source": [
    "pop() method "
   ]
  },
  {
   "cell_type": "code",
   "execution_count": 66,
   "id": "415a6b9f-074d-4391-ab33-49a29ce38ae6",
   "metadata": {},
   "outputs": [
    {
     "data": {
      "text/plain": [
       "[1, 2, 3, 4, 6]"
      ]
     },
     "execution_count": 66,
     "metadata": {},
     "output_type": "execute_result"
    }
   ],
   "source": [
    ">>>\n",
    ">>> list1 = [1, 2, 3, 4, 5, 6]\n",
    ">>>\n",
    ">>> list1.pop(4)  # remove the element at index 4\n",
    "5\n",
    ">>> list1"
   ]
  },
  {
   "cell_type": "code",
   "execution_count": 67,
   "id": "56a5af2b-56d3-4f70-8647-331efd2fc4d6",
   "metadata": {},
   "outputs": [
    {
     "data": {
      "text/plain": [
       "[1, 2, 3, 4]"
      ]
     },
     "execution_count": 67,
     "metadata": {},
     "output_type": "execute_result"
    }
   ],
   "source": [
    ">>>\n",
    ">>> list1.pop()   # remove the last element\n",
    "6\n",
    ">>>\n",
    ">>> list1"
   ]
  },
  {
   "cell_type": "code",
   "execution_count": null,
   "id": "09f122bf-e76e-4504-b2bc-0309c28d26ff",
   "metadata": {},
   "outputs": [],
   "source": []
  }
 ],
 "metadata": {
  "kernelspec": {
   "display_name": "Python 3 (ipykernel)",
   "language": "python",
   "name": "python3"
  },
  "language_info": {
   "codemirror_mode": {
    "name": "ipython",
    "version": 3
   },
   "file_extension": ".py",
   "mimetype": "text/x-python",
   "name": "python",
   "nbconvert_exporter": "python",
   "pygments_lexer": "ipython3",
   "version": "3.12.3"
  }
 },
 "nbformat": 4,
 "nbformat_minor": 5
}
